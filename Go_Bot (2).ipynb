{
  "nbformat": 4,
  "nbformat_minor": 0,
  "metadata": {
    "colab": {
      "name": "Go-Bot.ipynb",
      "provenance": [],
      "collapsed_sections": []
    },
    "kernelspec": {
      "name": "python3",
      "display_name": "Python 3"
    }
  },
  "cells": [
    {
      "cell_type": "markdown",
      "metadata": {
        "id": "MRNKGonfdqUT",
        "colab_type": "text"
      },
      "source": [
        "NLP Course project - Goal Oriented chatbot with reinforced learning \n"
      ]
    },
    {
      "cell_type": "code",
      "metadata": {
        "id": "thGKa9Zq9pbw",
        "colab_type": "code",
        "colab": {}
      },
      "source": [
        "from zipfile import ZipFile"
      ],
      "execution_count": 0,
      "outputs": []
    },
    {
      "cell_type": "code",
      "metadata": {
        "id": "MzcAm-dT4Um8",
        "colab_type": "code",
        "colab": {}
      },
      "source": [
        "!pip install -U -q PyDrive\n",
        "from pydrive.auth import GoogleAuth\n",
        "from pydrive.drive import GoogleDrive\n",
        "from google.colab import auth\n",
        "from oauth2client.client import GoogleCredentials"
      ],
      "execution_count": 0,
      "outputs": []
    },
    {
      "cell_type": "code",
      "metadata": {
        "id": "ZjOz3BHn41tD",
        "colab_type": "code",
        "colab": {}
      },
      "source": [
        "auth.authenticate_user()\n",
        "gauth = GoogleAuth()\n",
        "gauth.credentials = GoogleCredentials.get_application_default()\n",
        "drive = GoogleDrive(gauth)"
      ],
      "execution_count": 0,
      "outputs": []
    },
    {
      "cell_type": "code",
      "metadata": {
        "id": "HNAxNGN182qi",
        "colab_type": "code",
        "colab": {}
      },
      "source": [
        "fid = drive.ListFile({'q':\"title='GO-Bot-DRL-master.zip'\"}).GetList()[0]['id']\n",
        "f = drive.CreateFile({'id': fid})\n",
        "f.GetContentFile('GO-Bot-DRL-master.zip')"
      ],
      "execution_count": 0,
      "outputs": []
    },
    {
      "cell_type": "code",
      "metadata": {
        "id": "MNvYTGvL9EV4",
        "colab_type": "code",
        "colab": {}
      },
      "source": [
        "with ZipFile('GO-Bot-DRL-master.zip','r') as zipObj:\n",
        "  zipObj.extractall()"
      ],
      "execution_count": 0,
      "outputs": []
    },
    {
      "cell_type": "code",
      "metadata": {
        "id": "K3iHPNEI96jg",
        "colab_type": "code",
        "outputId": "40ffea13-70dc-4600-9bfb-9c474c261171",
        "colab": {
          "base_uri": "https://localhost:8080/",
          "height": 106
        }
      },
      "source": [
        "!ls GO-Bot-DRL-master"
      ],
      "execution_count": 6,
      "outputs": [
        {
          "output_type": "stream",
          "text": [
            "assets\t\t    dqn_agent.py\t       state_tracker.py   utils.py\n",
            "constants.json\t    error_model_controller.py  test.py\t\t  weights\n",
            "data\t\t    LICENSE\t\t       train.py\n",
            "db_query.py\t    pickle_converter.py        user.py\n",
            "dialogue_config.py  README.md\t\t       user_simulator.py\n"
          ],
          "name": "stdout"
        }
      ]
    },
    {
      "cell_type": "code",
      "metadata": {
        "id": "9ybGW8lh-PIO",
        "colab_type": "code",
        "outputId": "da19f55a-cb71-487c-e8e4-05060832ed0c",
        "colab": {
          "base_uri": "https://localhost:8080/",
          "height": 35
        }
      },
      "source": [
        "cd GO-Bot-DRL-master"
      ],
      "execution_count": 7,
      "outputs": [
        {
          "output_type": "stream",
          "text": [
            "/content/GO-Bot-DRL-master\n"
          ],
          "name": "stdout"
        }
      ]
    },
    {
      "cell_type": "markdown",
      "metadata": {
        "id": "YXFXkKcYQghE",
        "colab_type": "text"
      },
      "source": [
        "Rewritting with transportation data "
      ]
    },
    {
      "cell_type": "code",
      "metadata": {
        "id": "B7-9R3M3JyN7",
        "colab_type": "code",
        "colab": {}
      },
      "source": [
        "import json\n",
        "with open('constants.json') as f:\n",
        "  data = json.load(f)"
      ],
      "execution_count": 0,
      "outputs": []
    },
    {
      "cell_type": "code",
      "metadata": {
        "id": "knP1XeojKlWo",
        "colab_type": "code",
        "outputId": "51a8f2b7-c215-4c8e-bc03-0b3ec384f87d",
        "colab": {
          "base_uri": "https://localhost:8080/",
          "height": 55
        }
      },
      "source": [
        "print (data)"
      ],
      "execution_count": 9,
      "outputs": [
        {
          "output_type": "stream",
          "text": [
            "{'db_file_paths': {'database': 'data/movie_db.pkl', 'dict': 'data/movie_dict.pkl', 'user_goals': 'data/movie_user_goals.pkl'}, 'run': {'usersim': True, 'warmup_mem': 1000, 'num_ep_run': 40000, 'train_freq': 100, 'max_round_num': 20, 'success_rate_threshold': 0.3}, 'agent': {'save_weights_file_path': '', 'load_weights_file_path': '', 'vanilla': True, 'learning_rate': 0.001, 'batch_size': 16, 'dqn_hidden_size': 80, 'epsilon_init': 0.0, 'gamma': 0.9, 'max_mem_size': 500000}, 'emc': {'slot_error_mode': 0, 'slot_error_prob': 0.05, 'intent_error_prob': 0.0}}\n"
          ],
          "name": "stdout"
        }
      ]
    },
    {
      "cell_type": "code",
      "metadata": {
        "id": "P21N0CaPL7xD",
        "colab_type": "code",
        "outputId": "e94f25fc-9239-4f0b-b57a-da1ffc7a839a",
        "colab": {
          "base_uri": "https://localhost:8080/",
          "height": 568
        }
      },
      "source": [
        "!cat constants.json"
      ],
      "execution_count": 10,
      "outputs": [
        {
          "output_type": "stream",
          "text": [
            "{\n",
            "  \"db_file_paths\": {\n",
            "    \"database\": \"data/movie_db.pkl\",\n",
            "    \"dict\": \"data/movie_dict.pkl\",\n",
            "    \"user_goals\": \"data/movie_user_goals.pkl\"\n",
            "  },\n",
            "  \"run\": {\n",
            "    \"usersim\": true,\n",
            "    \"warmup_mem\": 1000,\n",
            "    \"num_ep_run\": 40000,\n",
            "    \"train_freq\": 100,\n",
            "    \"max_round_num\": 20,\n",
            "    \"success_rate_threshold\": 0.3\n",
            "  },\n",
            "  \"agent\": {\n",
            "    \"save_weights_file_path\": \"\",\n",
            "    \"load_weights_file_path\": \"\",\n",
            "    \"vanilla\": true,\n",
            "    \"learning_rate\": 1e-3,\n",
            "    \"batch_size\": 16,\n",
            "    \"dqn_hidden_size\": 80,\n",
            "    \"epsilon_init\": 0.0,\n",
            "    \"gamma\": 0.9,\n",
            "    \"max_mem_size\": 500000\n",
            "  },\n",
            "  \"emc\": {\n",
            "    \"slot_error_mode\": 0,\n",
            "    \"slot_error_prob\": 0.05,\n",
            "    \"intent_error_prob\": 0.0\n",
            "  }\n",
            "}"
          ],
          "name": "stdout"
        }
      ]
    },
    {
      "cell_type": "code",
      "metadata": {
        "id": "mvP26OYhOxYG",
        "colab_type": "code",
        "colab": {}
      },
      "source": [
        "dict2 = {\n",
        "  \"db_file_paths\": {\n",
        "    \"database\": \"data/movie_db.pkl\",\n",
        "    \"dict\": \"data/movie_dict.pkl\",\n",
        "    \"user_goals\": \"data/movie_user_goals.pkl\"\n",
        "  },\n",
        "  \"run\": {\n",
        "    \"usersim\": True,\n",
        "    \"warmup_mem\": 100,\n",
        "    \"num_ep_run\": 400,\n",
        "    \"train_freq\": 100,\n",
        "    \"max_round_num\": 20,\n",
        "    \"success_rate_threshold\": 0.3\n",
        "  },\n",
        "  \"agent\": {\n",
        "    \"save_weights_file_path\": \"weights/model.h5\",\n",
        "    \"load_weights_file_path\": \"weights/model.h5\",\n",
        "    \"vanilla\": True,\n",
        "    \"learning_rate\": 1e-3,\n",
        "    \"batch_size\": 16,\n",
        "    \"dqn_hidden_size\": 80,\n",
        "    \"epsilon_init\": 0.0,\n",
        "    \"gamma\": 0.9,\n",
        "    \"max_mem_size\": 500000\n",
        "  },\n",
        "  \"emc\": {\n",
        "    \"slot_error_mode\": 0,\n",
        "    \"slot_error_prob\": 0.05,\n",
        "    \"intent_error_prob\": 0.0\n",
        "  }\n",
        "}"
      ],
      "execution_count": 0,
      "outputs": []
    },
    {
      "cell_type": "code",
      "metadata": {
        "id": "nmijuWx6Q1j5",
        "colab_type": "code",
        "colab": {}
      },
      "source": [
        "data.update(dict2)"
      ],
      "execution_count": 0,
      "outputs": []
    },
    {
      "cell_type": "code",
      "metadata": {
        "id": "Ym0EJ_SuRTp5",
        "colab_type": "code",
        "colab": {}
      },
      "source": [
        "with open('constants.json', 'w') as json_file:\n",
        "  json.dump(data, json_file)"
      ],
      "execution_count": 0,
      "outputs": []
    },
    {
      "cell_type": "code",
      "metadata": {
        "id": "GdZrxP0oRl2U",
        "colab_type": "code",
        "outputId": "d5ba2141-9716-43aa-b475-4e1cbe2c6d6f",
        "colab": {
          "base_uri": "https://localhost:8080/",
          "height": 55
        }
      },
      "source": [
        "!cat constants.json"
      ],
      "execution_count": 15,
      "outputs": [
        {
          "output_type": "stream",
          "text": [
            "{\"db_file_paths\": {\"database\": \"data/movie_db.pkl\", \"dict\": \"data/movie_dict.pkl\", \"user_goals\": \"data/movie_user_goals.pkl\"}, \"run\": {\"usersim\": true, \"warmup_mem\": 100, \"num_ep_run\": 400, \"train_freq\": 100, \"max_round_num\": 20, \"success_rate_threshold\": 0.3}, \"agent\": {\"save_weights_file_path\": \"weights/model.h5\", \"load_weights_file_path\": \"weights/model.h5\", \"vanilla\": true, \"learning_rate\": 0.001, \"batch_size\": 16, \"dqn_hidden_size\": 80, \"epsilon_init\": 0.0, \"gamma\": 0.9, \"max_mem_size\": 500000}, \"emc\": {\"slot_error_mode\": 0, \"slot_error_prob\": 0.05, \"intent_error_prob\": 0.0}}"
          ],
          "name": "stdout"
        }
      ]
    },
    {
      "cell_type": "code",
      "metadata": {
        "id": "t7Bjsafw7su7",
        "colab_type": "code",
        "colab": {
          "base_uri": "https://localhost:8080/",
          "height": 712
        },
        "outputId": "5b59f3f7-73fb-4caf-9007-699cfe162ac9"
      },
      "source": [
        "!python train.py --constants_path \"constants.json\""
      ],
      "execution_count": 16,
      "outputs": [
        {
          "output_type": "stream",
          "text": [
            "Using TensorFlow backend.\n",
            "WARNING:tensorflow:From /usr/local/lib/python3.6/dist-packages/keras/backend/tensorflow_backend.py:66: The name tf.get_default_graph is deprecated. Please use tf.compat.v1.get_default_graph instead.\n",
            "\n",
            "WARNING:tensorflow:From /usr/local/lib/python3.6/dist-packages/keras/backend/tensorflow_backend.py:541: The name tf.placeholder is deprecated. Please use tf.compat.v1.placeholder instead.\n",
            "\n",
            "WARNING:tensorflow:From /usr/local/lib/python3.6/dist-packages/keras/backend/tensorflow_backend.py:4432: The name tf.random_uniform is deprecated. Please use tf.random.uniform instead.\n",
            "\n",
            "WARNING:tensorflow:From /usr/local/lib/python3.6/dist-packages/keras/optimizers.py:793: The name tf.train.Optimizer is deprecated. Please use tf.compat.v1.train.Optimizer instead.\n",
            "\n",
            "WARNING:tensorflow:From /usr/local/lib/python3.6/dist-packages/keras/backend/tensorflow_backend.py:190: The name tf.get_default_session is deprecated. Please use tf.compat.v1.get_default_session instead.\n",
            "\n",
            "WARNING:tensorflow:From /usr/local/lib/python3.6/dist-packages/keras/backend/tensorflow_backend.py:197: The name tf.ConfigProto is deprecated. Please use tf.compat.v1.ConfigProto instead.\n",
            "\n",
            "WARNING:tensorflow:From /usr/local/lib/python3.6/dist-packages/keras/backend/tensorflow_backend.py:203: The name tf.Session is deprecated. Please use tf.compat.v1.Session instead.\n",
            "\n",
            "2019-12-02 03:44:26.371724: I tensorflow/core/platform/cpu_feature_guard.cc:142] Your CPU supports instructions that this TensorFlow binary was not compiled to use: AVX512F\n",
            "2019-12-02 03:44:26.398743: I tensorflow/core/platform/profile_utils/cpu_utils.cc:94] CPU Frequency: 2000170000 Hz\n",
            "2019-12-02 03:44:26.479314: I tensorflow/compiler/xla/service/service.cc:168] XLA service 0x16b5b80 initialized for platform Host (this does not guarantee that XLA will be used). Devices:\n",
            "2019-12-02 03:44:26.479455: I tensorflow/compiler/xla/service/service.cc:176]   StreamExecutor device (0): Host, Default Version\n",
            "2019-12-02 03:44:26.509634: I tensorflow/stream_executor/platform/default/dso_loader.cc:44] Successfully opened dynamic library libcuda.so.1\n",
            "2019-12-02 03:44:26.672768: E tensorflow/stream_executor/cuda/cuda_driver.cc:318] failed call to cuInit: CUDA_ERROR_NO_DEVICE: no CUDA-capable device is detected\n",
            "2019-12-02 03:44:26.672876: I tensorflow/stream_executor/cuda/cuda_diagnostics.cc:156] kernel driver does not appear to be running on this host (783f1b51848b): /proc/driver/nvidia/version does not exist\n",
            "WARNING:tensorflow:From /usr/local/lib/python3.6/dist-packages/keras/backend/tensorflow_backend.py:207: The name tf.global_variables is deprecated. Please use tf.compat.v1.global_variables instead.\n",
            "\n",
            "WARNING:tensorflow:From /usr/local/lib/python3.6/dist-packages/keras/backend/tensorflow_backend.py:216: The name tf.is_variable_initialized is deprecated. Please use tf.compat.v1.is_variable_initialized instead.\n",
            "\n",
            "WARNING:tensorflow:From /usr/local/lib/python3.6/dist-packages/keras/backend/tensorflow_backend.py:223: The name tf.variables_initializer is deprecated. Please use tf.compat.v1.variables_initializer instead.\n",
            "\n",
            "Warmup Started...\n",
            "...Warmup Ended\n",
            "Training Started...\n",
            "Episode: 100 NEW BEST SUCCESS RATE: 0.86 Avg Reward: 23.52\n",
            "Episode: 200 NEW BEST SUCCESS RATE: 0.92 Avg Reward: 27.96\n",
            "WARNING:tensorflow:From /usr/local/lib/python3.6/dist-packages/keras/backend/tensorflow_backend.py:1033: The name tf.assign_add is deprecated. Please use tf.compat.v1.assign_add instead.\n",
            "\n",
            "WARNING:tensorflow:From /usr/local/lib/python3.6/dist-packages/keras/backend/tensorflow_backend.py:1020: The name tf.assign is deprecated. Please use tf.compat.v1.assign instead.\n",
            "\n",
            "...Training Ended\n"
          ],
          "name": "stdout"
        }
      ]
    },
    {
      "cell_type": "code",
      "metadata": {
        "id": "tf4l3Uq2kkFZ",
        "colab_type": "code",
        "colab": {
          "base_uri": "https://localhost:8080/",
          "height": 1000
        },
        "outputId": "ae4fde63-cc81-4300-de3f-76b2ce7b5260"
      },
      "source": [
        "!python test.py --constants_path 'constants.json'"
      ],
      "execution_count": 17,
      "outputs": [
        {
          "output_type": "stream",
          "text": [
            "Using TensorFlow backend.\n",
            "WARNING:tensorflow:From /usr/local/lib/python3.6/dist-packages/keras/backend/tensorflow_backend.py:66: The name tf.get_default_graph is deprecated. Please use tf.compat.v1.get_default_graph instead.\n",
            "\n",
            "WARNING:tensorflow:From /usr/local/lib/python3.6/dist-packages/keras/backend/tensorflow_backend.py:541: The name tf.placeholder is deprecated. Please use tf.compat.v1.placeholder instead.\n",
            "\n",
            "WARNING:tensorflow:From /usr/local/lib/python3.6/dist-packages/keras/backend/tensorflow_backend.py:4432: The name tf.random_uniform is deprecated. Please use tf.random.uniform instead.\n",
            "\n",
            "WARNING:tensorflow:From /usr/local/lib/python3.6/dist-packages/keras/optimizers.py:793: The name tf.train.Optimizer is deprecated. Please use tf.compat.v1.train.Optimizer instead.\n",
            "\n",
            "WARNING:tensorflow:From /usr/local/lib/python3.6/dist-packages/keras/backend/tensorflow_backend.py:190: The name tf.get_default_session is deprecated. Please use tf.compat.v1.get_default_session instead.\n",
            "\n",
            "WARNING:tensorflow:From /usr/local/lib/python3.6/dist-packages/keras/backend/tensorflow_backend.py:197: The name tf.ConfigProto is deprecated. Please use tf.compat.v1.ConfigProto instead.\n",
            "\n",
            "WARNING:tensorflow:From /usr/local/lib/python3.6/dist-packages/keras/backend/tensorflow_backend.py:203: The name tf.Session is deprecated. Please use tf.compat.v1.Session instead.\n",
            "\n",
            "2019-12-01 04:47:58.447355: I tensorflow/core/platform/profile_utils/cpu_utils.cc:94] CPU Frequency: 2300000000 Hz\n",
            "2019-12-01 04:47:58.447628: I tensorflow/compiler/xla/service/service.cc:168] XLA service 0x182bb80 initialized for platform Host (this does not guarantee that XLA will be used). Devices:\n",
            "2019-12-01 04:47:58.447674: I tensorflow/compiler/xla/service/service.cc:176]   StreamExecutor device (0): Host, Default Version\n",
            "2019-12-01 04:47:58.449953: I tensorflow/stream_executor/platform/default/dso_loader.cc:44] Successfully opened dynamic library libcuda.so.1\n",
            "2019-12-01 04:47:58.452065: E tensorflow/stream_executor/cuda/cuda_driver.cc:318] failed call to cuInit: CUDA_ERROR_NO_DEVICE: no CUDA-capable device is detected\n",
            "2019-12-01 04:47:58.452115: I tensorflow/stream_executor/cuda/cuda_diagnostics.cc:156] kernel driver does not appear to be running on this host (f7bbdc5a4ca3): /proc/driver/nvidia/version does not exist\n",
            "WARNING:tensorflow:From /usr/local/lib/python3.6/dist-packages/keras/backend/tensorflow_backend.py:207: The name tf.global_variables is deprecated. Please use tf.compat.v1.global_variables instead.\n",
            "\n",
            "WARNING:tensorflow:From /usr/local/lib/python3.6/dist-packages/keras/backend/tensorflow_backend.py:216: The name tf.is_variable_initialized is deprecated. Please use tf.compat.v1.is_variable_initialized instead.\n",
            "\n",
            "WARNING:tensorflow:From /usr/local/lib/python3.6/dist-packages/keras/backend/tensorflow_backend.py:223: The name tf.variables_initializer is deprecated. Please use tf.compat.v1.variables_initializer instead.\n",
            "\n",
            "Testing Started...\n",
            "Response: inform/moviename:room/\n",
            "Response: request//starttime\n",
            "Agent Action: {'intent': 'request', 'inform_slots': {}, 'request_slots': {'city': 'UNK'}, 'round': 1, 'speaker': 'Agent'}\n",
            "Response: inform/city:seattle/\n",
            "Response: done//\n",
            "Success?: 0\n",
            "Agent Action: {'intent': 'request', 'inform_slots': {}, 'request_slots': {'city': 'UNK'}, 'round': 2, 'speaker': 'Agent'}\n",
            "Response: inform/city:seattle/\n",
            "Response: done//\n",
            "Success?: -1\n",
            "Episode: 1 Success: False Reward: -22\n",
            "Response: inform/city:seattle/\n",
            "Response: request//starttime\n",
            "Agent Action: {'intent': 'request', 'inform_slots': {}, 'request_slots': {'city': 'UNK'}, 'round': 1, 'speaker': 'Agent'}\n",
            "Response: inform/moviename:room/\n",
            "Response: done//\n",
            "Success?: 0\n",
            "Agent Action: {'intent': 'request', 'inform_slots': {}, 'request_slots': {'city': 'UNK'}, 'round': 2, 'speaker': 'Agent'}\n",
            "Response: done//\n",
            "Success?: -1\n",
            "Episode: 2 Success: False Reward: -22\n",
            "Response:  inform/moviename:room/\n",
            "Response: request//starttime\n",
            "Agent Action: {'intent': 'request', 'inform_slots': {}, 'request_slots': {'city': 'UNK'}, 'round': 1, 'speaker': 'Agent'}\n",
            "Response: inform/date:tonight/\n",
            "Response: request//starttime\n",
            "Success?: -1\n",
            "Episode: 3 Success: False Reward: -21\n",
            "Response: inform/date:tonight/\n",
            "Response: request//starttime\n",
            "Agent Action: {'intent': 'request', 'inform_slots': {}, 'request_slots': {'city': 'UNK'}, 'round': 1, 'speaker': 'Agent'}\n",
            "Response: inform/date:tonight/\n",
            "Response: done//\n",
            "Success?: -1\n",
            "Episode: 4 Success: False Reward: -21\n",
            "Response: inform/date:tonight/\n",
            "Response: done//\n",
            "Agent Action: {'intent': 'request', 'inform_slots': {}, 'request_slots': {'city': 'UNK'}, 'round': 1, 'speaker': 'Agent'}\n",
            "Response: inform/city:seattle/\n",
            "Response: request//starttime\n",
            "Success?: 0\n",
            "Agent Action: {'intent': 'request', 'inform_slots': {}, 'request_slots': {'city': 'UNK'}, 'round': 2, 'speaker': 'Agent'}\n",
            "Response: inform/date:tonight/\n",
            "Response: done//\n",
            "Success?: 0\n",
            "Agent Action: {'intent': 'request', 'inform_slots': {}, 'request_slots': {'city': 'UNK'}, 'round': 3, 'speaker': 'Agent'}\n",
            "Response: thanks//\n",
            "Success?: 0\n",
            "Agent Action: {'intent': 'request', 'inform_slots': {}, 'request_slots': {'city': 'UNK'}, 'round': 4, 'speaker': 'Agent'}\n",
            "Response: reject//\n",
            "Success?: 0\n",
            "Agent Action: {'intent': 'request', 'inform_slots': {}, 'request_slots': {'city': 'UNK'}, 'round': 5, 'speaker': 'Agent'}\n",
            "Response: Traceback (most recent call last):\n",
            "  File \"test.py\", line 116, in <module>\n",
            "    test_run()\n",
            "  File \"test.py\", line 88, in test_run\n",
            "    user_action, reward, done, success = user.step(agent_action)\n",
            "  File \"/content/GO-Bot-DRL-master/user.py\", line 122, in step\n",
            "    user_response = self._return_response()\n",
            "  File \"/content/GO-Bot-DRL-master/user.py\", line 43, in _return_response\n",
            "    input_string = input('Response: ')\n",
            "KeyboardInterrupt\n",
            "^C\n"
          ],
          "name": "stdout"
        }
      ]
    },
    {
      "cell_type": "code",
      "metadata": {
        "id": "3bLxJTNnRpYz",
        "colab_type": "code",
        "outputId": "8ac19f63-52f7-4f1b-ed6f-557c83269985",
        "colab": {
          "base_uri": "https://localhost:8080/",
          "height": 1000
        }
      },
      "source": [
        "!python train.py --constants_path 'constants.json'"
      ],
      "execution_count": 16,
      "outputs": [
        {
          "output_type": "stream",
          "text": [
            "Using TensorFlow backend.\n",
            "WARNING:tensorflow:From /usr/local/lib/python3.6/dist-packages/keras/backend/tensorflow_backend.py:66: The name tf.get_default_graph is deprecated. Please use tf.compat.v1.get_default_graph instead.\n",
            "\n",
            "WARNING:tensorflow:From /usr/local/lib/python3.6/dist-packages/keras/backend/tensorflow_backend.py:541: The name tf.placeholder is deprecated. Please use tf.compat.v1.placeholder instead.\n",
            "\n",
            "WARNING:tensorflow:From /usr/local/lib/python3.6/dist-packages/keras/backend/tensorflow_backend.py:4432: The name tf.random_uniform is deprecated. Please use tf.random.uniform instead.\n",
            "\n",
            "WARNING:tensorflow:From /usr/local/lib/python3.6/dist-packages/keras/optimizers.py:793: The name tf.train.Optimizer is deprecated. Please use tf.compat.v1.train.Optimizer instead.\n",
            "\n",
            "WARNING:tensorflow:From /usr/local/lib/python3.6/dist-packages/keras/backend/tensorflow_backend.py:190: The name tf.get_default_session is deprecated. Please use tf.compat.v1.get_default_session instead.\n",
            "\n",
            "WARNING:tensorflow:From /usr/local/lib/python3.6/dist-packages/keras/backend/tensorflow_backend.py:197: The name tf.ConfigProto is deprecated. Please use tf.compat.v1.ConfigProto instead.\n",
            "\n",
            "WARNING:tensorflow:From /usr/local/lib/python3.6/dist-packages/keras/backend/tensorflow_backend.py:203: The name tf.Session is deprecated. Please use tf.compat.v1.Session instead.\n",
            "\n",
            "2019-12-01 04:20:13.210259: I tensorflow/core/platform/profile_utils/cpu_utils.cc:94] CPU Frequency: 2300000000 Hz\n",
            "2019-12-01 04:20:13.212636: I tensorflow/compiler/xla/service/service.cc:168] XLA service 0x2869b80 initialized for platform Host (this does not guarantee that XLA will be used). Devices:\n",
            "2019-12-01 04:20:13.212707: I tensorflow/compiler/xla/service/service.cc:176]   StreamExecutor device (0): Host, Default Version\n",
            "2019-12-01 04:20:13.310717: I tensorflow/stream_executor/platform/default/dso_loader.cc:44] Successfully opened dynamic library libcuda.so.1\n",
            "2019-12-01 04:20:13.423507: E tensorflow/stream_executor/cuda/cuda_driver.cc:318] failed call to cuInit: CUDA_ERROR_NO_DEVICE: no CUDA-capable device is detected\n",
            "2019-12-01 04:20:13.423604: I tensorflow/stream_executor/cuda/cuda_diagnostics.cc:156] kernel driver does not appear to be running on this host (f7bbdc5a4ca3): /proc/driver/nvidia/version does not exist\n",
            "WARNING:tensorflow:From /usr/local/lib/python3.6/dist-packages/keras/backend/tensorflow_backend.py:207: The name tf.global_variables is deprecated. Please use tf.compat.v1.global_variables instead.\n",
            "\n",
            "WARNING:tensorflow:From /usr/local/lib/python3.6/dist-packages/keras/backend/tensorflow_backend.py:216: The name tf.is_variable_initialized is deprecated. Please use tf.compat.v1.is_variable_initialized instead.\n",
            "\n",
            "WARNING:tensorflow:From /usr/local/lib/python3.6/dist-packages/keras/backend/tensorflow_backend.py:223: The name tf.variables_initializer is deprecated. Please use tf.compat.v1.variables_initializer instead.\n",
            "\n",
            "Warmup Started...\n",
            "Response: inform/moviename:room/\n",
            "Response: request//starttime\n",
            "Agent Action: {'intent': 'request', 'inform_slots': {}, 'request_slots': {'moviename': 'UNK'}, 'round': 1, 'speaker': 'Agent'}\n",
            "Response: request//starttime\n",
            "Success?: 0\n",
            "Agent Action: {'intent': 'request', 'inform_slots': {}, 'request_slots': {'starttime': 'UNK'}, 'round': 2, 'speaker': 'Agent'}\n",
            "Response: done//\n",
            "Success?: 0\n",
            "Agent Action: {'intent': 'request', 'inform_slots': {}, 'request_slots': {'city': 'UNK'}, 'round': 3, 'speaker': 'Agent'}\n",
            "Response: inform/city:seattle/\n",
            "Response: done//\n",
            "Success?: 0\n",
            "Agent Action: {'intent': 'request', 'inform_slots': {}, 'request_slots': {'date': 'UNK'}, 'round': 4, 'speaker': 'Agent'}\n",
            "Response: inform/date:tonight/\n",
            "Response: done//\n",
            "Success?: 0\n",
            "Agent Action: {'intent': 'request', 'inform_slots': {}, 'request_slots': {'theater': 'UNK'}, 'round': 5, 'speaker': 'Agent'}\n",
            "Response: inform/theatre:manvill/e 12 plex\n",
            "Response: inform/theatre:manville 12 plex/\n",
            "Response: done//\n",
            "Success?: 0\n",
            "Agent Action: {'intent': 'request', 'inform_slots': {}, 'request_slots': {'numberofpeople': 'UNK'}, 'round': 6, 'speaker': 'Agent'}\n",
            "Response: inform/numberofpeople:2/\n",
            "Response: done//\n",
            "Success?: 0\n",
            "Agent Action: {'intent': 'match_found', 'inform_slots': {'city': 'hamilton', 'theater': 'manville 12 plex', 'zip': '08835', 'critic_rating': 'good', 'date': 'tomorrow', 'state': 'nj', 'starttime': '10:30am', 'genre': 'comedy', 'moviename': 'zootopia', 'ticket': '0'}, 'request_slots': {}, 'round': 7, 'speaker': 'Agent'}\n",
            "Response: done//\n",
            "Success?: -1\n",
            "Response: inform/moviename:room/\n",
            "Response: request//starttime\n",
            "Agent Action: {'intent': 'request', 'inform_slots': {}, 'request_slots': {'moviename': 'UNK'}, 'round': 1, 'speaker': 'Agent'}\n",
            "Response: inform/moviename:room/\n",
            "Response: request//starttime\n",
            "Success?: 0\n",
            "Agent Action: {'intent': 'request', 'inform_slots': {}, 'request_slots': {'starttime': 'UNK'}, 'round': 2, 'speaker': 'Agent'}\n",
            "Response: inform/theatre:manville 12 plex/\n",
            "Response: done//\n",
            "Success?: 0\n",
            "Agent Action: {'intent': 'request', 'inform_slots': {}, 'request_slots': {'city': 'UNK'}, 'round': 3, 'speaker': 'Agent'}\n",
            "Response: inform/city:seattle/\n",
            "Response: done//\n",
            "Success?: 0\n",
            "Agent Action: {'intent': 'request', 'inform_slots': {}, 'request_slots': {'date': 'UNK'}, 'round': 4, 'speaker': 'Agent'}\n",
            "Response: inform/date:tomorrow/\n",
            "Response: done//\n",
            "Success?: 0\n",
            "Agent Action: {'intent': 'request', 'inform_slots': {}, 'request_slots': {'theater': 'UNK'}, 'round': 5, 'speaker': 'Agent'}\n",
            "Response: inform/theatre:amc lowes oak tree 6/\n",
            "Response: done//\n",
            "Success?: 0\n",
            "Agent Action: {'intent': 'request', 'inform_slots': {}, 'request_slots': {'numberofpeople': 'UNK'}, 'round': 6, 'speaker': 'Agent'}\n",
            "Response: inform/numberofpeople:2/\n",
            "Response: done//\n",
            "Success?: 0\n",
            "Agent Action: {'intent': 'match_found', 'inform_slots': {'city': 'hamilton', 'theater': 'manville 12 plex', 'zip': '08835', 'critic_rating': 'good', 'date': 'tomorrow', 'state': 'nj', 'starttime': '10:30am', 'genre': 'comedy', 'moviename': 'zootopia', 'ticket': '0'}, 'request_slots': {}, 'round': 7, 'speaker': 'Agent'}\n",
            "Response: reject//\n",
            "Success?: 0\n",
            "Agent Action: {'intent': 'done', 'inform_slots': {}, 'request_slots': {}, 'round': 8, 'speaker': 'Agent'}\n",
            "Response: done//\n",
            "Success?: 0\n",
            "Agent Action: {'intent': 'done', 'inform_slots': {}, 'request_slots': {}, 'round': 9, 'speaker': 'Agent'}\n",
            "Response: thanks//\n",
            "Success?: -1\n",
            "Response: inform/moviename:room/\n",
            "Response: inform/starttime:9:30 pm/\n",
            "Response: request//theatre\n",
            "Response: done//\n",
            "Agent Action: {'intent': 'request', 'inform_slots': {}, 'request_slots': {'moviename': 'UNK'}, 'round': 1, 'speaker': 'Agent'}\n",
            "Response: inform/starttime:9:30 pm/\n",
            "Response: done//\n",
            "Success?: 0\n",
            "Agent Action: {'intent': 'request', 'inform_slots': {}, 'request_slots': {'starttime': 'UNK'}, 'round': 2, 'speaker': 'Agent'}\n",
            "Response: request//theater\n",
            "Success?: 0\n",
            "Agent Action: {'intent': 'request', 'inform_slots': {}, 'request_slots': {'city': 'UNK'}, 'round': 3, 'speaker': 'Agent'}\n",
            "Response: inform/city:seattle/\n",
            "Response: done//\n",
            "Success?: 0\n",
            "Agent Action: {'intent': 'request', 'inform_slots': {}, 'request_slots': {'date': 'UNK'}, 'round': 4, 'speaker': 'Agent'}\n",
            "Response: inform/date:tomorrow/\n",
            "Response: request//theater\n",
            "Success?: 0\n",
            "Agent Action: {'intent': 'request', 'inform_slots': {}, 'request_slots': {'theater': 'UNK'}, 'round': 5, 'speaker': 'Agent'}\n",
            "Response: done//\n",
            "Success?: 0\n",
            "Agent Action: {'intent': 'request', 'inform_slots': {}, 'request_slots': {'numberofpeople': 'UNK'}, 'round': 6, 'speaker': 'Agent'}\n",
            "Response: inform/numberofpeople:2/\n",
            "Response: done//\n",
            "Success?: 0\n",
            "Agent Action: {'intent': 'match_found', 'inform_slots': {'city': 'hamilton', 'theater': 'manville 12 plex', 'zip': '08835', 'critic_rating': 'good', 'date': 'tomorrow', 'state': 'nj', 'starttime': '10:30am', 'genre': 'comedy', 'moviename': 'zootopia', 'ticket': '0'}, 'request_slots': {}, 'round': 7, 'speaker': 'Agent'}\n",
            "Response: done//\n",
            "Success?: -1\n",
            "Response: done//\n",
            "Agent Action: {'intent': 'request', 'inform_slots': {}, 'request_slots': {'moviename': 'UNK'}, 'round': 1, 'speaker': 'Agent'}\n",
            "Response: inform/city:seattle/\n",
            "Response: inform/moviename:zootopia/\n",
            "Response: inform/numberofkids:2/\n",
            "Response: inform/date:tonight/\n",
            "Response: done//\n",
            "Success?: 0\n",
            "Agent Action: {'intent': 'request', 'inform_slots': {}, 'request_slots': {'starttime': 'UNK'}, 'round': 2, 'speaker': 'Agent'}\n",
            "Response: inform/city:seattle/\n",
            "Response: done//\n",
            "Success?: 0\n",
            "Agent Action: {'intent': 'request', 'inform_slots': {}, 'request_slots': {'city': 'UNK'}, 'round': 3, 'speaker': 'Agent'}\n",
            "Response: inform/moviename:zootopia/\n",
            "Response: done//\n",
            "Success?: 0\n",
            "Agent Action: {'intent': 'request', 'inform_slots': {}, 'request_slots': {'date': 'UNK'}, 'round': 4, 'speaker': 'Agent'}\n",
            "Response: inform/date:tonight/\n",
            "Response: done//\n",
            "Success?: 0\n",
            "Agent Action: {'intent': 'request', 'inform_slots': {}, 'request_slots': {'theater': 'UNK'}, 'round': 5, 'speaker': 'Agent'}\n",
            "Response: inform/theater:regal meridian 16/\n",
            "Response: done//\n",
            "Success?: 0\n",
            "Agent Action: {'intent': 'request', 'inform_slots': {}, 'request_slots': {'numberofpeople': 'UNK'}, 'round': 6, 'speaker': 'Agent'}\n",
            "Response: inform/numberofpeople:2/\n",
            "Response: done//\n",
            "Success?: 0\n",
            "Agent Action: {'intent': 'match_found', 'inform_slots': {'city': 'hamilton', 'theater': 'manville 12 plex', 'zip': '08835', 'critic_rating': 'good', 'date': 'tomorrow', 'state': 'nj', 'starttime': '10:30am', 'genre': 'comedy', 'moviename': 'zootopia', 'ticket': '0'}, 'request_slots': {}, 'round': 7, 'speaker': 'Agent'}\n",
            "Response: done//\n",
            "Success?: -1\n",
            "Response: done//\n",
            "Agent Action: {'intent': 'request', 'inform_slots': {}, 'request_slots': {'moviename': 'UNK'}, 'round': 1, 'speaker': 'Agent'}\n",
            "Response: Traceback (most recent call last):\n",
            "  File \"train.py\", line 179, in <module>\n",
            "    warmup_run()\n",
            "  File \"train.py\", line 104, in warmup_run\n",
            "    next_state, _, done, _ = run_round(state, warmup=True)\n",
            "  File \"train.py\", line 73, in run_round\n",
            "    user_action, reward, done, success = user.step(agent_action)\n",
            "  File \"/content/GO-Bot-DRL-master/user.py\", line 122, in step\n",
            "    user_response = self._return_response()\n",
            "  File \"/content/GO-Bot-DRL-master/user.py\", line 43, in _return_response\n",
            "    input_string = input('Response: ')\n",
            "KeyboardInterrupt\n",
            "^C\n"
          ],
          "name": "stdout"
        }
      ]
    }
  ]
}